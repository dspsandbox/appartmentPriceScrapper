{
 "cells": [
  {
   "cell_type": "code",
   "execution_count": 1,
   "metadata": {},
   "outputs": [],
   "source": [
    "import os\n",
    "import numpy as np\n",
    "import datetime\n",
    "import matplotlib.pyplot as plt\n",
    "import matplotlib.dates as mdates\n",
    "from matplotlib.dates import DateFormatter\n",
    "import pandas as pd\n",
    "from pandas.plotting import register_matplotlib_converters\n",
    "register_matplotlib_converters()"
   ]
  },
  {
   "cell_type": "markdown",
   "metadata": {},
   "source": [
    "## Settings"
   ]
  },
  {
   "cell_type": "code",
   "execution_count": 2,
   "metadata": {},
   "outputs": [],
   "source": [
    "pathDB=\"DB-Rent\"\n",
    "constraintList=[\"Gràcia\",\"Horta\"] #DB file names have to contain \"Gràcia\" or \"Horta\". See above defined directory <pathDB> for all the available database files.\n",
    "# constraintList=[\"Barcelona\"] #DB file names have to contain \"Barcelona\". This will show all appartments in Barcelona."
   ]
  },
  {
   "cell_type": "markdown",
   "metadata": {},
   "source": [
    "## Load data"
   ]
  },
  {
   "cell_type": "code",
   "execution_count": 3,
   "metadata": {},
   "outputs": [
    {
     "name": "stdout",
     "output_type": "stream",
     "text": [
      "['DB-Rent/Barcelona - Horta.txt', 'DB-Rent/Barcelona - Vila de Gràcia.txt', 'DB-Rent/Barcelona - Camp d´en Grassot - Gràcia N..txt']\n"
     ]
    }
   ],
   "source": [
    "fileList=[]\n",
    "for root, dirs, files in os.walk(pathDB):\n",
    "    for file in files:\n",
    "        for constraint in constraintList:\n",
    "            if (constraint in file):\n",
    "                fileList+=[os.path.join(root,file)]\n",
    "                break\n",
    "\n",
    "print(fileList)                \n",
    "                \n",
    "binList=np.loadtxt(fileList[0],dtype=int)[0]                  \n",
    "dataList=np.loadtxt(fileList[0],dtype=int)[1:,1:]               \n",
    "tList= np.loadtxt(fileList[0],dtype=int)[1:,0]            \n",
    "tList=[datetime.datetime.strptime(str(int(t)),\"%Y%m%d\").date() for t in tList]\n",
    "\n",
    "for file in fileList[1:]:\n",
    "    dataList+=np.loadtxt(file,dtype=int)[1:,1:]\n"
   ]
  },
  {
   "cell_type": "markdown",
   "metadata": {},
   "source": [
    "## Histogram"
   ]
  },
  {
   "cell_type": "code",
   "execution_count": 4,
   "metadata": {},
   "outputs": [
    {
     "data": {
      "image/png": "[encoded data removed]",
      "text/plain": [
       "<Figure size 432x288 with 1 Axes>"
      ]
     },
     "metadata": {
      "needs_background": "light"
     },
     "output_type": "display_data"
    }
   ],
   "source": [
    "item=-1 #Histogram of last (most recent) item\n",
    "\n",
    "tLast=tList[item]\n",
    "data=dataList[item]\n",
    "plt.figure()\n",
    "plt.bar(binList[:-1],data,align=\"edge\",width=(binList[1]-binList[0]),label=str(tList[item]))\n",
    "plt.xlim(500,2000)\n",
    "plt.xlabel(\"Price (€/month)\")\n",
    "plt.ylabel(\"Appartments\")\n",
    "plt.legend()\n",
    "plt.show()"
   ]
  },
  {
   "cell_type": "markdown",
   "metadata": {},
   "source": [
    "## Time evolution"
   ]
  },
  {
   "cell_type": "code",
   "execution_count": 5,
   "metadata": {},
   "outputs": [
    {
     "data": {
      "image/png": "[encoded data removed]",
      "text/plain": [
       "<Figure size 432x288 with 1 Axes>"
      ]
     },
     "metadata": {
      "needs_background": "light"
     },
     "output_type": "display_data"
    },
    {
     "data": {
      "text/html": [
       "<div>\n",
       "<style scoped>\n",
       "    .dataframe tbody tr th:only-of-type {\n",
       "        vertical-align: middle;\n",
       "    }\n",
       "\n",
       "    .dataframe tbody tr th {\n",
       "        vertical-align: top;\n",
       "    }\n",
       "\n",
       "    .dataframe thead th {\n",
       "        text-align: right;\n",
       "    }\n",
       "</style>\n",
       "<table border=\"1\" class=\"dataframe\">\n",
       "  <thead>\n",
       "    <tr style=\"text-align: right;\">\n",
       "      <th></th>\n",
       "      <th>Day</th>\n",
       "      <th>Mean (€/month)</th>\n",
       "      <th>Median (€/month)</th>\n",
       "    </tr>\n",
       "  </thead>\n",
       "  <tbody>\n",
       "    <tr>\n",
       "      <th>0</th>\n",
       "      <td>2020-04-24</td>\n",
       "      <td>1366.78</td>\n",
       "      <td>1250</td>\n",
       "    </tr>\n",
       "    <tr>\n",
       "      <th>1</th>\n",
       "      <td>2020-04-25</td>\n",
       "      <td>1370.62</td>\n",
       "      <td>1250</td>\n",
       "    </tr>\n",
       "    <tr>\n",
       "      <th>2</th>\n",
       "      <td>2020-04-26</td>\n",
       "      <td>1368.13</td>\n",
       "      <td>1250</td>\n",
       "    </tr>\n",
       "    <tr>\n",
       "      <th>3</th>\n",
       "      <td>2020-04-27</td>\n",
       "      <td>1366.14</td>\n",
       "      <td>1250</td>\n",
       "    </tr>\n",
       "    <tr>\n",
       "      <th>4</th>\n",
       "      <td>2020-04-28</td>\n",
       "      <td>1362.94</td>\n",
       "      <td>1250</td>\n",
       "    </tr>\n",
       "    <tr>\n",
       "      <th>5</th>\n",
       "      <td>2020-04-29</td>\n",
       "      <td>1356.72</td>\n",
       "      <td>1250</td>\n",
       "    </tr>\n",
       "    <tr>\n",
       "      <th>6</th>\n",
       "      <td>2020-04-30</td>\n",
       "      <td>1351.65</td>\n",
       "      <td>1250</td>\n",
       "    </tr>\n",
       "    <tr>\n",
       "      <th>7</th>\n",
       "      <td>2020-05-01</td>\n",
       "      <td>1362.98</td>\n",
       "      <td>1250</td>\n",
       "    </tr>\n",
       "    <tr>\n",
       "      <th>8</th>\n",
       "      <td>2020-05-02</td>\n",
       "      <td>1373.14</td>\n",
       "      <td>1250</td>\n",
       "    </tr>\n",
       "    <tr>\n",
       "      <th>9</th>\n",
       "      <td>2020-05-03</td>\n",
       "      <td>1366.11</td>\n",
       "      <td>1250</td>\n",
       "    </tr>\n",
       "    <tr>\n",
       "      <th>10</th>\n",
       "      <td>2020-05-04</td>\n",
       "      <td>1363.15</td>\n",
       "      <td>1250</td>\n",
       "    </tr>\n",
       "    <tr>\n",
       "      <th>11</th>\n",
       "      <td>2020-05-05</td>\n",
       "      <td>1356.5</td>\n",
       "      <td>1250</td>\n",
       "    </tr>\n",
       "    <tr>\n",
       "      <th>12</th>\n",
       "      <td>2020-05-06</td>\n",
       "      <td>1354.08</td>\n",
       "      <td>1250</td>\n",
       "    </tr>\n",
       "    <tr>\n",
       "      <th>13</th>\n",
       "      <td>2020-05-07</td>\n",
       "      <td>1360.28</td>\n",
       "      <td>1250</td>\n",
       "    </tr>\n",
       "    <tr>\n",
       "      <th>14</th>\n",
       "      <td>2020-05-08</td>\n",
       "      <td>1353.56</td>\n",
       "      <td>1250</td>\n",
       "    </tr>\n",
       "    <tr>\n",
       "      <th>15</th>\n",
       "      <td>2020-05-09</td>\n",
       "      <td>1349.96</td>\n",
       "      <td>1250</td>\n",
       "    </tr>\n",
       "    <tr>\n",
       "      <th>16</th>\n",
       "      <td>2020-05-10</td>\n",
       "      <td>1353.5</td>\n",
       "      <td>1250</td>\n",
       "    </tr>\n",
       "    <tr>\n",
       "      <th>17</th>\n",
       "      <td>2020-05-11</td>\n",
       "      <td>1352.48</td>\n",
       "      <td>1250</td>\n",
       "    </tr>\n",
       "    <tr>\n",
       "      <th>18</th>\n",
       "      <td>2020-05-12</td>\n",
       "      <td>1349.05</td>\n",
       "      <td>1250</td>\n",
       "    </tr>\n",
       "    <tr>\n",
       "      <th>19</th>\n",
       "      <td>2020-05-13</td>\n",
       "      <td>1346.51</td>\n",
       "      <td>1250</td>\n",
       "    </tr>\n",
       "    <tr>\n",
       "      <th>20</th>\n",
       "      <td>2020-05-14</td>\n",
       "      <td>1346.83</td>\n",
       "      <td>1250</td>\n",
       "    </tr>\n",
       "    <tr>\n",
       "      <th>21</th>\n",
       "      <td>2020-05-15</td>\n",
       "      <td>1352.85</td>\n",
       "      <td>1250</td>\n",
       "    </tr>\n",
       "    <tr>\n",
       "      <th>22</th>\n",
       "      <td>2020-05-16</td>\n",
       "      <td>1355.96</td>\n",
       "      <td>1250</td>\n",
       "    </tr>\n",
       "    <tr>\n",
       "      <th>23</th>\n",
       "      <td>2020-05-17</td>\n",
       "      <td>1357.31</td>\n",
       "      <td>1250</td>\n",
       "    </tr>\n",
       "  </tbody>\n",
       "</table>\n",
       "</div>"
      ],
      "text/plain": [
       "           Day Mean (€/month) Median (€/month)\n",
       "0   2020-04-24        1366.78             1250\n",
       "1   2020-04-25        1370.62             1250\n",
       "2   2020-04-26        1368.13             1250\n",
       "3   2020-04-27        1366.14             1250\n",
       "4   2020-04-28        1362.94             1250\n",
       "5   2020-04-29        1356.72             1250\n",
       "6   2020-04-30        1351.65             1250\n",
       "7   2020-05-01        1362.98             1250\n",
       "8   2020-05-02        1373.14             1250\n",
       "9   2020-05-03        1366.11             1250\n",
       "10  2020-05-04        1363.15             1250\n",
       "11  2020-05-05         1356.5             1250\n",
       "12  2020-05-06        1354.08             1250\n",
       "13  2020-05-07        1360.28             1250\n",
       "14  2020-05-08        1353.56             1250\n",
       "15  2020-05-09        1349.96             1250\n",
       "16  2020-05-10         1353.5             1250\n",
       "17  2020-05-11        1352.48             1250\n",
       "18  2020-05-12        1349.05             1250\n",
       "19  2020-05-13        1346.51             1250\n",
       "20  2020-05-14        1346.83             1250\n",
       "21  2020-05-15        1352.85             1250\n",
       "22  2020-05-16        1355.96             1250\n",
       "23  2020-05-17        1357.31             1250"
      ]
     },
     "execution_count": 5,
     "metadata": {},
     "output_type": "execute_result"
    }
   ],
   "source": [
    "meanList=[]\n",
    "medianList=[]\n",
    "for data in dataList:\n",
    "    meanList+=[np.sum(binList[:-1]*data)/np.sum(data)]\n",
    "    medianList+=[binList[np.where(np.cumsum(data)>sum(data)/2)[0][0]]]\n",
    "plt.figure()    \n",
    "plt.plot(tList,meanList,label=\"mean\")\n",
    "plt.plot(tList,medianList,label=\"median\")\n",
    "date_form = DateFormatter(\"%Y-%m-%d\")\n",
    "ax=plt.gca()\n",
    "ax.xaxis.set_major_formatter(date_form)\n",
    "ax.xaxis.set_major_locator(mdates.DayLocator(interval=1))\n",
    "plt.xticks(rotation=90)\n",
    "plt.legend()\n",
    "plt.ylabel(\"Price (€/month)\")\n",
    "plt.show()\n",
    "pd.DataFrame(np.array([tList,meanList,medianList]).T, columns=[\"Day\",\"Mean (€/month)\",\"Median (€/month)\"])"
   ]
  },
  {
   "cell_type": "code",
   "execution_count": null,
   "metadata": {},
   "outputs": [],
   "source": []
  }
 ],
 "metadata": {
  "kernelspec": {
   "display_name": "Python 3",
   "language": "python",
   "name": "python3"
  },
  "language_info": {
   "codemirror_mode": {
    "name": "ipython",
    "version": 3
   },
   "file_extension": ".py",
   "mimetype": "text/x-python",
   "name": "python",
   "nbconvert_exporter": "python",
   "pygments_lexer": "ipython3",
   "version": "3.7.3"
  }
 },
 "nbformat": 4,
 "nbformat_minor": 2
}
