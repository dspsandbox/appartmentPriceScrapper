{
 "cells": [
  {
   "cell_type": "code",
   "execution_count": 1,
   "metadata": {},
   "outputs": [],
   "source": [
    "import os\n",
    "import numpy as np\n",
    "import datetime\n",
    "import matplotlib.pyplot as plt\n",
    "import matplotlib.dates as mdates\n",
    "from matplotlib.dates import DateFormatter\n",
    "import pandas as pd\n",
    "from pandas.plotting import register_matplotlib_converters\n",
    "register_matplotlib_converters()"
   ]
  },
  {
   "cell_type": "markdown",
   "metadata": {},
   "source": [
    "## Settings"
   ]
  },
  {
   "cell_type": "code",
   "execution_count": 2,
   "metadata": {},
   "outputs": [],
   "source": [
    "pathDB=\"DB-Buy\"\n",
    "constraintList=[\"Gràcia\",\"Horta\"] #DB file names have to contain \"Gràcia\" or \"Horta\". See above defined directory <pathDB> for all the available database files.\n",
    "# constraintList=[\"Barcelona\"] #DB file names have to contain \"Barcelona\". This will show all appartments in Barcelona."
   ]
  },
  {
   "cell_type": "markdown",
   "metadata": {},
   "source": [
    "## Load data"
   ]
  },
  {
   "cell_type": "code",
   "execution_count": 3,
   "metadata": {},
   "outputs": [
    {
     "name": "stdout",
     "output_type": "stream",
     "text": [
      "['DB-Buy/Barcelona - Horta.txt', 'DB-Buy/Barcelona - Vila de Gràcia.txt', 'DB-Buy/Barcelona - Camp d´en Grassot - Gràcia N..txt']\n"
     ]
    }
   ],
   "source": [
    "fileList=[]\n",
    "for root, dirs, files in os.walk(pathDB):\n",
    "    for file in files:\n",
    "        for constraint in constraintList:\n",
    "            if (constraint in file):\n",
    "                fileList+=[os.path.join(root,file)]\n",
    "                break\n",
    "\n",
    "print(fileList)                \n",
    "                \n",
    "binList=np.loadtxt(fileList[0],dtype=int)[0]                  \n",
    "dataList=np.loadtxt(fileList[0],dtype=int)[1:,1:]               \n",
    "tList= np.loadtxt(fileList[0],dtype=int)[1:,0]            \n",
    "tList=[datetime.datetime.strptime(str(int(t)),\"%Y%m%d\").date() for t in tList]\n",
    "\n",
    "for file in fileList[1:]:\n",
    "    dataList+=np.loadtxt(file,dtype=int)[1:,1:]\n"
   ]
  },
  {
   "cell_type": "markdown",
   "metadata": {},
   "source": [
    "## Histogram"
   ]
  },
  {
   "cell_type": "code",
   "execution_count": 4,
   "metadata": {},
   "outputs": [
    {
     "data": {
      "image/png": "[encoded data removed]",
      "text/plain": [
       "<Figure size 432x288 with 1 Axes>"
      ]
     },
     "metadata": {
      "needs_background": "light"
     },
     "output_type": "display_data"
    }
   ],
   "source": [
    "item=-1 \n",
    "\n",
    "tLast=tList[item]\n",
    "data=dataList[item]\n",
    "plt.figure()\n",
    "plt.bar(binList[:-1],data,align=\"edge\",width=(binList[1]-binList[0]))\n",
    "plt.xlim(100e3,600e3)\n",
    "plt.xlabel(\"Price (€)\")\n",
    "plt.ylabel(\"Appartments\")\n",
    "plt.show()"
   ]
  },
  {
   "cell_type": "markdown",
   "metadata": {},
   "source": [
    "## Time evolution"
   ]
  },
  {
   "cell_type": "code",
   "execution_count": 5,
   "metadata": {},
   "outputs": [
    {
     "data": {
      "image/png": "[encoded data removed]",
      "text/plain": [
       "<Figure size 432x288 with 1 Axes>"
      ]
     },
     "metadata": {
      "needs_background": "light"
     },
     "output_type": "display_data"
    },
    {
     "data": {
      "text/html": [
       "<div>\n",
       "<style scoped>\n",
       "    .dataframe tbody tr th:only-of-type {\n",
       "        vertical-align: middle;\n",
       "    }\n",
       "\n",
       "    .dataframe tbody tr th {\n",
       "        vertical-align: top;\n",
       "    }\n",
       "\n",
       "    .dataframe thead th {\n",
       "        text-align: right;\n",
       "    }\n",
       "</style>\n",
       "<table border=\"1\" class=\"dataframe\">\n",
       "  <thead>\n",
       "    <tr style=\"text-align: right;\">\n",
       "      <th></th>\n",
       "      <th>Day</th>\n",
       "      <th>Mean (€)</th>\n",
       "      <th>Median (€)</th>\n",
       "    </tr>\n",
       "  </thead>\n",
       "  <tbody>\n",
       "    <tr>\n",
       "      <th>0</th>\n",
       "      <td>2020-04-24</td>\n",
       "      <td>417542</td>\n",
       "      <td>360000</td>\n",
       "    </tr>\n",
       "    <tr>\n",
       "      <th>1</th>\n",
       "      <td>2020-04-25</td>\n",
       "      <td>418422</td>\n",
       "      <td>360000</td>\n",
       "    </tr>\n",
       "    <tr>\n",
       "      <th>2</th>\n",
       "      <td>2020-04-26</td>\n",
       "      <td>417410</td>\n",
       "      <td>360000</td>\n",
       "    </tr>\n",
       "    <tr>\n",
       "      <th>3</th>\n",
       "      <td>2020-04-27</td>\n",
       "      <td>417655</td>\n",
       "      <td>360000</td>\n",
       "    </tr>\n",
       "    <tr>\n",
       "      <th>4</th>\n",
       "      <td>2020-04-28</td>\n",
       "      <td>420655</td>\n",
       "      <td>360000</td>\n",
       "    </tr>\n",
       "    <tr>\n",
       "      <th>5</th>\n",
       "      <td>2020-04-29</td>\n",
       "      <td>410853</td>\n",
       "      <td>360000</td>\n",
       "    </tr>\n",
       "    <tr>\n",
       "      <th>6</th>\n",
       "      <td>2020-04-30</td>\n",
       "      <td>417954</td>\n",
       "      <td>360000</td>\n",
       "    </tr>\n",
       "    <tr>\n",
       "      <th>7</th>\n",
       "      <td>2020-05-01</td>\n",
       "      <td>415780</td>\n",
       "      <td>360000</td>\n",
       "    </tr>\n",
       "    <tr>\n",
       "      <th>8</th>\n",
       "      <td>2020-05-02</td>\n",
       "      <td>416447</td>\n",
       "      <td>360000</td>\n",
       "    </tr>\n",
       "    <tr>\n",
       "      <th>9</th>\n",
       "      <td>2020-05-03</td>\n",
       "      <td>417747</td>\n",
       "      <td>364000</td>\n",
       "    </tr>\n",
       "    <tr>\n",
       "      <th>10</th>\n",
       "      <td>2020-05-04</td>\n",
       "      <td>415561</td>\n",
       "      <td>360000</td>\n",
       "    </tr>\n",
       "    <tr>\n",
       "      <th>11</th>\n",
       "      <td>2020-05-05</td>\n",
       "      <td>409746</td>\n",
       "      <td>360000</td>\n",
       "    </tr>\n",
       "    <tr>\n",
       "      <th>12</th>\n",
       "      <td>2020-05-06</td>\n",
       "      <td>414012</td>\n",
       "      <td>360000</td>\n",
       "    </tr>\n",
       "    <tr>\n",
       "      <th>13</th>\n",
       "      <td>2020-05-07</td>\n",
       "      <td>416453</td>\n",
       "      <td>360000</td>\n",
       "    </tr>\n",
       "    <tr>\n",
       "      <th>14</th>\n",
       "      <td>2020-05-08</td>\n",
       "      <td>414703</td>\n",
       "      <td>358000</td>\n",
       "    </tr>\n",
       "    <tr>\n",
       "      <th>15</th>\n",
       "      <td>2020-05-09</td>\n",
       "      <td>414336</td>\n",
       "      <td>358000</td>\n",
       "    </tr>\n",
       "    <tr>\n",
       "      <th>16</th>\n",
       "      <td>2020-05-10</td>\n",
       "      <td>413636</td>\n",
       "      <td>358000</td>\n",
       "    </tr>\n",
       "    <tr>\n",
       "      <th>17</th>\n",
       "      <td>2020-05-11</td>\n",
       "      <td>410157</td>\n",
       "      <td>358000</td>\n",
       "    </tr>\n",
       "    <tr>\n",
       "      <th>18</th>\n",
       "      <td>2020-05-12</td>\n",
       "      <td>416685</td>\n",
       "      <td>358000</td>\n",
       "    </tr>\n",
       "    <tr>\n",
       "      <th>19</th>\n",
       "      <td>2020-05-14</td>\n",
       "      <td>412277</td>\n",
       "      <td>358000</td>\n",
       "    </tr>\n",
       "    <tr>\n",
       "      <th>20</th>\n",
       "      <td>2020-05-15</td>\n",
       "      <td>414359</td>\n",
       "      <td>358000</td>\n",
       "    </tr>\n",
       "    <tr>\n",
       "      <th>21</th>\n",
       "      <td>2020-05-16</td>\n",
       "      <td>413298</td>\n",
       "      <td>358000</td>\n",
       "    </tr>\n",
       "    <tr>\n",
       "      <th>22</th>\n",
       "      <td>2020-05-17</td>\n",
       "      <td>415804</td>\n",
       "      <td>358000</td>\n",
       "    </tr>\n",
       "    <tr>\n",
       "      <th>23</th>\n",
       "      <td>2020-05-18</td>\n",
       "      <td>413245</td>\n",
       "      <td>358000</td>\n",
       "    </tr>\n",
       "    <tr>\n",
       "      <th>24</th>\n",
       "      <td>2020-05-20</td>\n",
       "      <td>413922</td>\n",
       "      <td>358000</td>\n",
       "    </tr>\n",
       "  </tbody>\n",
       "</table>\n",
       "</div>"
      ],
      "text/plain": [
       "           Day Mean (€) Median (€)\n",
       "0   2020-04-24   417542     360000\n",
       "1   2020-04-25   418422     360000\n",
       "2   2020-04-26   417410     360000\n",
       "3   2020-04-27   417655     360000\n",
       "4   2020-04-28   420655     360000\n",
       "5   2020-04-29   410853     360000\n",
       "6   2020-04-30   417954     360000\n",
       "7   2020-05-01   415780     360000\n",
       "8   2020-05-02   416447     360000\n",
       "9   2020-05-03   417747     364000\n",
       "10  2020-05-04   415561     360000\n",
       "11  2020-05-05   409746     360000\n",
       "12  2020-05-06   414012     360000\n",
       "13  2020-05-07   416453     360000\n",
       "14  2020-05-08   414703     358000\n",
       "15  2020-05-09   414336     358000\n",
       "16  2020-05-10   413636     358000\n",
       "17  2020-05-11   410157     358000\n",
       "18  2020-05-12   416685     358000\n",
       "19  2020-05-14   412277     358000\n",
       "20  2020-05-15   414359     358000\n",
       "21  2020-05-16   413298     358000\n",
       "22  2020-05-17   415804     358000\n",
       "23  2020-05-18   413245     358000\n",
       "24  2020-05-20   413922     358000"
      ]
     },
     "execution_count": 5,
     "metadata": {},
     "output_type": "execute_result"
    }
   ],
   "source": [
    "meanList=[]\n",
    "medianList=[]\n",
    "for data in dataList:\n",
    "    meanList+=[np.sum(binList[:-1]*data)/np.sum(data)]\n",
    "    medianList+=[binList[np.where(np.cumsum(data)>sum(data)/2)[0][0]]]\n",
    "plt.figure()    \n",
    "plt.plot(tList,meanList,label=\"mean\")\n",
    "plt.plot(tList,medianList,label=\"median\")\n",
    "date_form = DateFormatter(\"%Y-%m-%d\")\n",
    "ax=plt.gca()\n",
    "ax.xaxis.set_major_formatter(date_form)\n",
    "ax.xaxis.set_major_locator(mdates.DayLocator(interval=1))\n",
    "plt.xticks(rotation=90)\n",
    "plt.legend()\n",
    "plt.ylabel(\"Price (€)\")\n",
    "plt.show()\n",
    "pd.DataFrame(np.array([tList,meanList,medianList]).T, columns=[\"Day\",\"Mean (€)\",\"Median (€)\"])"
   ]
  },
  {
   "cell_type": "code",
   "execution_count": null,
   "metadata": {},
   "outputs": [],
   "source": []
  }
 ],
 "metadata": {
  "kernelspec": {
   "display_name": "Python 3",
   "language": "python",
   "name": "python3"
  },
  "language_info": {
   "codemirror_mode": {
    "name": "ipython",
    "version": 3
   },
   "file_extension": ".py",
   "mimetype": "text/x-python",
   "name": "python",
   "nbconvert_exporter": "python",
   "pygments_lexer": "ipython3",
   "version": "3.7.3"
  }
 },
 "nbformat": 4,
 "nbformat_minor": 2
}
